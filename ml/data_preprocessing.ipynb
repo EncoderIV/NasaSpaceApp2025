{
 "cells": [
  {
   "cell_type": "code",
   "execution_count": 14,
   "id": "1086f45e",
   "metadata": {
    "vscode": {
     "languageId": "r"
    }
   },
   "outputs": [
    {
     "data": {
      "text/html": [
       "<style>\n",
       ".list-inline {list-style: none; margin:0; padding: 0}\n",
       ".list-inline>li {display: inline-block}\n",
       ".list-inline>li:not(:last-child)::after {content: \"\\00b7\"; padding: 0 .5ex}\n",
       "</style>\n",
       "<ol class=list-inline><li>9564</li><li>50</li></ol>\n"
      ],
      "text/latex": [
       "\\begin{enumerate*}\n",
       "\\item 9564\n",
       "\\item 50\n",
       "\\end{enumerate*}\n"
      ],
      "text/markdown": [
       "1. 9564\n",
       "2. 50\n",
       "\n",
       "\n"
      ],
      "text/plain": [
       "[1] 9564   50"
      ]
     },
     "metadata": {},
     "output_type": "display_data"
    },
    {
     "data": {
      "text/html": [
       "<table class=\"dataframe\">\n",
       "<caption>A data.frame: 6 × 50</caption>\n",
       "<thead>\n",
       "\t<tr><th></th><th scope=col>rowid</th><th scope=col>kepid</th><th scope=col>kepoi_name</th><th scope=col>kepler_name</th><th scope=col>koi_disposition</th><th scope=col>koi_pdisposition</th><th scope=col>koi_score</th><th scope=col>koi_fpflag_nt</th><th scope=col>koi_fpflag_ss</th><th scope=col>koi_fpflag_co</th><th scope=col>⋯</th><th scope=col>koi_steff_err2</th><th scope=col>koi_slogg</th><th scope=col>koi_slogg_err1</th><th scope=col>koi_slogg_err2</th><th scope=col>koi_srad</th><th scope=col>koi_srad_err1</th><th scope=col>koi_srad_err2</th><th scope=col>ra</th><th scope=col>dec</th><th scope=col>koi_kepmag</th></tr>\n",
       "\t<tr><th></th><th scope=col>&lt;int&gt;</th><th scope=col>&lt;int&gt;</th><th scope=col>&lt;chr&gt;</th><th scope=col>&lt;chr&gt;</th><th scope=col>&lt;chr&gt;</th><th scope=col>&lt;chr&gt;</th><th scope=col>&lt;dbl&gt;</th><th scope=col>&lt;int&gt;</th><th scope=col>&lt;int&gt;</th><th scope=col>&lt;int&gt;</th><th scope=col>⋯</th><th scope=col>&lt;dbl&gt;</th><th scope=col>&lt;dbl&gt;</th><th scope=col>&lt;dbl&gt;</th><th scope=col>&lt;dbl&gt;</th><th scope=col>&lt;dbl&gt;</th><th scope=col>&lt;dbl&gt;</th><th scope=col>&lt;dbl&gt;</th><th scope=col>&lt;dbl&gt;</th><th scope=col>&lt;dbl&gt;</th><th scope=col>&lt;dbl&gt;</th></tr>\n",
       "</thead>\n",
       "<tbody>\n",
       "\t<tr><th scope=row>1</th><td>1</td><td>10797460</td><td>K00752.01</td><td>Kepler-227 b</td><td>CONFIRMED     </td><td>CANDIDATE     </td><td>1.000</td><td>0</td><td>0</td><td>0</td><td>⋯</td><td> -81</td><td>4.467</td><td>0.064</td><td>-0.096</td><td>0.927</td><td>0.105</td><td>-0.061</td><td>291.9342</td><td>48.14165</td><td>15.347</td></tr>\n",
       "\t<tr><th scope=row>2</th><td>2</td><td>10797460</td><td>K00752.02</td><td>Kepler-227 c</td><td>CONFIRMED     </td><td>CANDIDATE     </td><td>0.969</td><td>0</td><td>0</td><td>0</td><td>⋯</td><td> -81</td><td>4.467</td><td>0.064</td><td>-0.096</td><td>0.927</td><td>0.105</td><td>-0.061</td><td>291.9342</td><td>48.14165</td><td>15.347</td></tr>\n",
       "\t<tr><th scope=row>3</th><td>3</td><td>10811496</td><td>K00753.01</td><td>            </td><td>FALSE POSITIVE</td><td>FALSE POSITIVE</td><td>0.000</td><td>0</td><td>1</td><td>0</td><td>⋯</td><td>-176</td><td>4.544</td><td>0.044</td><td>-0.176</td><td>0.868</td><td>0.233</td><td>-0.078</td><td>297.0048</td><td>48.13413</td><td>15.436</td></tr>\n",
       "\t<tr><th scope=row>4</th><td>4</td><td>10848459</td><td>K00754.01</td><td>            </td><td>FALSE POSITIVE</td><td>FALSE POSITIVE</td><td>0.000</td><td>0</td><td>1</td><td>0</td><td>⋯</td><td>-174</td><td>4.564</td><td>0.053</td><td>-0.168</td><td>0.791</td><td>0.201</td><td>-0.067</td><td>285.5346</td><td>48.28521</td><td>15.597</td></tr>\n",
       "\t<tr><th scope=row>5</th><td>5</td><td>10854555</td><td>K00755.01</td><td>Kepler-664 b</td><td>CONFIRMED     </td><td>CANDIDATE     </td><td>1.000</td><td>0</td><td>0</td><td>0</td><td>⋯</td><td>-211</td><td>4.438</td><td>0.070</td><td>-0.210</td><td>1.046</td><td>0.334</td><td>-0.133</td><td>288.7549</td><td>48.22620</td><td>15.509</td></tr>\n",
       "\t<tr><th scope=row>6</th><td>6</td><td>10872983</td><td>K00756.01</td><td>Kepler-228 d</td><td>CONFIRMED     </td><td>CANDIDATE     </td><td>1.000</td><td>0</td><td>0</td><td>0</td><td>⋯</td><td>-232</td><td>4.486</td><td>0.054</td><td>-0.229</td><td>0.972</td><td>0.315</td><td>-0.105</td><td>296.2861</td><td>48.22467</td><td>15.714</td></tr>\n",
       "</tbody>\n",
       "</table>\n"
      ],
      "text/latex": [
       "A data.frame: 6 × 50\n",
       "\\begin{tabular}{r|lllllllllllllllllllll}\n",
       "  & rowid & kepid & kepoi\\_name & kepler\\_name & koi\\_disposition & koi\\_pdisposition & koi\\_score & koi\\_fpflag\\_nt & koi\\_fpflag\\_ss & koi\\_fpflag\\_co & ⋯ & koi\\_steff\\_err2 & koi\\_slogg & koi\\_slogg\\_err1 & koi\\_slogg\\_err2 & koi\\_srad & koi\\_srad\\_err1 & koi\\_srad\\_err2 & ra & dec & koi\\_kepmag\\\\\n",
       "  & <int> & <int> & <chr> & <chr> & <chr> & <chr> & <dbl> & <int> & <int> & <int> & ⋯ & <dbl> & <dbl> & <dbl> & <dbl> & <dbl> & <dbl> & <dbl> & <dbl> & <dbl> & <dbl>\\\\\n",
       "\\hline\n",
       "\t1 & 1 & 10797460 & K00752.01 & Kepler-227 b & CONFIRMED      & CANDIDATE      & 1.000 & 0 & 0 & 0 & ⋯ &  -81 & 4.467 & 0.064 & -0.096 & 0.927 & 0.105 & -0.061 & 291.9342 & 48.14165 & 15.347\\\\\n",
       "\t2 & 2 & 10797460 & K00752.02 & Kepler-227 c & CONFIRMED      & CANDIDATE      & 0.969 & 0 & 0 & 0 & ⋯ &  -81 & 4.467 & 0.064 & -0.096 & 0.927 & 0.105 & -0.061 & 291.9342 & 48.14165 & 15.347\\\\\n",
       "\t3 & 3 & 10811496 & K00753.01 &              & FALSE POSITIVE & FALSE POSITIVE & 0.000 & 0 & 1 & 0 & ⋯ & -176 & 4.544 & 0.044 & -0.176 & 0.868 & 0.233 & -0.078 & 297.0048 & 48.13413 & 15.436\\\\\n",
       "\t4 & 4 & 10848459 & K00754.01 &              & FALSE POSITIVE & FALSE POSITIVE & 0.000 & 0 & 1 & 0 & ⋯ & -174 & 4.564 & 0.053 & -0.168 & 0.791 & 0.201 & -0.067 & 285.5346 & 48.28521 & 15.597\\\\\n",
       "\t5 & 5 & 10854555 & K00755.01 & Kepler-664 b & CONFIRMED      & CANDIDATE      & 1.000 & 0 & 0 & 0 & ⋯ & -211 & 4.438 & 0.070 & -0.210 & 1.046 & 0.334 & -0.133 & 288.7549 & 48.22620 & 15.509\\\\\n",
       "\t6 & 6 & 10872983 & K00756.01 & Kepler-228 d & CONFIRMED      & CANDIDATE      & 1.000 & 0 & 0 & 0 & ⋯ & -232 & 4.486 & 0.054 & -0.229 & 0.972 & 0.315 & -0.105 & 296.2861 & 48.22467 & 15.714\\\\\n",
       "\\end{tabular}\n"
      ],
      "text/markdown": [
       "\n",
       "A data.frame: 6 × 50\n",
       "\n",
       "| <!--/--> | rowid &lt;int&gt; | kepid &lt;int&gt; | kepoi_name &lt;chr&gt; | kepler_name &lt;chr&gt; | koi_disposition &lt;chr&gt; | koi_pdisposition &lt;chr&gt; | koi_score &lt;dbl&gt; | koi_fpflag_nt &lt;int&gt; | koi_fpflag_ss &lt;int&gt; | koi_fpflag_co &lt;int&gt; | ⋯ ⋯ | koi_steff_err2 &lt;dbl&gt; | koi_slogg &lt;dbl&gt; | koi_slogg_err1 &lt;dbl&gt; | koi_slogg_err2 &lt;dbl&gt; | koi_srad &lt;dbl&gt; | koi_srad_err1 &lt;dbl&gt; | koi_srad_err2 &lt;dbl&gt; | ra &lt;dbl&gt; | dec &lt;dbl&gt; | koi_kepmag &lt;dbl&gt; |\n",
       "|---|---|---|---|---|---|---|---|---|---|---|---|---|---|---|---|---|---|---|---|---|---|\n",
       "| 1 | 1 | 10797460 | K00752.01 | Kepler-227 b | CONFIRMED      | CANDIDATE      | 1.000 | 0 | 0 | 0 | ⋯ |  -81 | 4.467 | 0.064 | -0.096 | 0.927 | 0.105 | -0.061 | 291.9342 | 48.14165 | 15.347 |\n",
       "| 2 | 2 | 10797460 | K00752.02 | Kepler-227 c | CONFIRMED      | CANDIDATE      | 0.969 | 0 | 0 | 0 | ⋯ |  -81 | 4.467 | 0.064 | -0.096 | 0.927 | 0.105 | -0.061 | 291.9342 | 48.14165 | 15.347 |\n",
       "| 3 | 3 | 10811496 | K00753.01 | <!----> | FALSE POSITIVE | FALSE POSITIVE | 0.000 | 0 | 1 | 0 | ⋯ | -176 | 4.544 | 0.044 | -0.176 | 0.868 | 0.233 | -0.078 | 297.0048 | 48.13413 | 15.436 |\n",
       "| 4 | 4 | 10848459 | K00754.01 | <!----> | FALSE POSITIVE | FALSE POSITIVE | 0.000 | 0 | 1 | 0 | ⋯ | -174 | 4.564 | 0.053 | -0.168 | 0.791 | 0.201 | -0.067 | 285.5346 | 48.28521 | 15.597 |\n",
       "| 5 | 5 | 10854555 | K00755.01 | Kepler-664 b | CONFIRMED      | CANDIDATE      | 1.000 | 0 | 0 | 0 | ⋯ | -211 | 4.438 | 0.070 | -0.210 | 1.046 | 0.334 | -0.133 | 288.7549 | 48.22620 | 15.509 |\n",
       "| 6 | 6 | 10872983 | K00756.01 | Kepler-228 d | CONFIRMED      | CANDIDATE      | 1.000 | 0 | 0 | 0 | ⋯ | -232 | 4.486 | 0.054 | -0.229 | 0.972 | 0.315 | -0.105 | 296.2861 | 48.22467 | 15.714 |\n",
       "\n"
      ],
      "text/plain": [
       "  rowid kepid    kepoi_name kepler_name  koi_disposition koi_pdisposition\n",
       "1 1     10797460 K00752.01  Kepler-227 b CONFIRMED       CANDIDATE       \n",
       "2 2     10797460 K00752.02  Kepler-227 c CONFIRMED       CANDIDATE       \n",
       "3 3     10811496 K00753.01               FALSE POSITIVE  FALSE POSITIVE  \n",
       "4 4     10848459 K00754.01               FALSE POSITIVE  FALSE POSITIVE  \n",
       "5 5     10854555 K00755.01  Kepler-664 b CONFIRMED       CANDIDATE       \n",
       "6 6     10872983 K00756.01  Kepler-228 d CONFIRMED       CANDIDATE       \n",
       "  koi_score koi_fpflag_nt koi_fpflag_ss koi_fpflag_co ⋯ koi_steff_err2\n",
       "1 1.000     0             0             0             ⋯  -81          \n",
       "2 0.969     0             0             0             ⋯  -81          \n",
       "3 0.000     0             1             0             ⋯ -176          \n",
       "4 0.000     0             1             0             ⋯ -174          \n",
       "5 1.000     0             0             0             ⋯ -211          \n",
       "6 1.000     0             0             0             ⋯ -232          \n",
       "  koi_slogg koi_slogg_err1 koi_slogg_err2 koi_srad koi_srad_err1 koi_srad_err2\n",
       "1 4.467     0.064          -0.096         0.927    0.105         -0.061       \n",
       "2 4.467     0.064          -0.096         0.927    0.105         -0.061       \n",
       "3 4.544     0.044          -0.176         0.868    0.233         -0.078       \n",
       "4 4.564     0.053          -0.168         0.791    0.201         -0.067       \n",
       "5 4.438     0.070          -0.210         1.046    0.334         -0.133       \n",
       "6 4.486     0.054          -0.229         0.972    0.315         -0.105       \n",
       "  ra       dec      koi_kepmag\n",
       "1 291.9342 48.14165 15.347    \n",
       "2 291.9342 48.14165 15.347    \n",
       "3 297.0048 48.13413 15.436    \n",
       "4 285.5346 48.28521 15.597    \n",
       "5 288.7549 48.22620 15.509    \n",
       "6 296.2861 48.22467 15.714    "
      ]
     },
     "metadata": {},
     "output_type": "display_data"
    },
    {
     "name": "stdout",
     "output_type": "stream",
     "text": [
      "'data.frame':\t9564 obs. of  50 variables:\n",
      " $ rowid            : int  1 2 3 4 5 6 7 8 9 10 ...\n",
      " $ kepid            : int  10797460 10797460 10811496 10848459 10854555 10872983 10872983 10872983 6721123 10910878 ...\n",
      " $ kepoi_name       : chr  \"K00752.01\" \"K00752.02\" \"K00753.01\" \"K00754.01\" ...\n",
      " $ kepler_name      : chr  \"Kepler-227 b\" \"Kepler-227 c\" \"\" \"\" ...\n",
      " $ koi_disposition  : chr  \"CONFIRMED\" \"CONFIRMED\" \"FALSE POSITIVE\" \"FALSE POSITIVE\" ...\n",
      " $ koi_pdisposition : chr  \"CANDIDATE\" \"CANDIDATE\" \"FALSE POSITIVE\" \"FALSE POSITIVE\" ...\n",
      " $ koi_score        : num  1 0.969 0 0 1 1 1 0.992 0 1 ...\n",
      " $ koi_fpflag_nt    : int  0 0 0 0 0 0 0 0 0 0 ...\n",
      " $ koi_fpflag_ss    : int  0 0 1 1 0 0 0 0 1 0 ...\n",
      " $ koi_fpflag_co    : int  0 0 0 0 0 0 0 0 1 0 ...\n",
      " $ koi_fpflag_ec    : int  0 0 0 0 0 0 0 0 0 0 ...\n",
      " $ koi_period       : num  9.49 54.42 19.9 1.74 2.53 ...\n",
      " $ koi_period_err1  : num  2.78e-05 2.48e-04 1.49e-05 2.63e-07 3.76e-06 ...\n",
      " $ koi_period_err2  : num  -2.78e-05 -2.48e-04 -1.49e-05 -2.63e-07 -3.76e-06 ...\n",
      " $ koi_time0bk      : num  171 163 176 170 172 ...\n",
      " $ koi_time0bk_err1 : num  0.00216 0.00352 0.000581 0.000115 0.00113 0.00141 0.0019 0.00461 0.00253 0.000517 ...\n",
      " $ koi_time0bk_err2 : num  -0.00216 -0.00352 -0.000581 -0.000115 -0.00113 -0.00141 -0.0019 -0.00461 -0.00253 -0.000517 ...\n",
      " $ koi_impact       : num  0.146 0.586 0.969 1.276 0.701 ...\n",
      " $ koi_impact_err1  : num  0.318 0.059 5.126 0.115 0.235 ...\n",
      " $ koi_impact_err2  : num  -0.146 -0.443 -0.077 -0.092 -0.478 -0.428 -0.532 -0.523 -0.044 -0.052 ...\n",
      " $ koi_duration     : num  2.96 4.51 1.78 2.41 1.65 ...\n",
      " $ koi_duration_err1: num  0.0819 0.116 0.0341 0.00537 0.042 0.061 0.0673 0.165 0.136 0.0241 ...\n",
      " $ koi_duration_err2: num  -0.0819 -0.116 -0.0341 -0.00537 -0.042 -0.061 -0.0673 -0.165 -0.136 -0.0241 ...\n",
      " $ koi_depth        : num  616 875 10829 8079 603 ...\n",
      " $ koi_depth_err1   : num  19.5 35.5 171 12.8 16.9 24.2 18.7 16.8 5.8 33.3 ...\n",
      " $ koi_depth_err2   : num  -19.5 -35.5 -171 -12.8 -16.9 -24.2 -18.7 -16.8 -5.8 -33.3 ...\n",
      " $ koi_prad         : num  2.26 2.83 14.6 33.46 2.75 ...\n",
      " $ koi_prad_err1    : num  0.26 0.32 3.92 8.5 0.88 1.27 0.9 0.52 6.45 0.22 ...\n",
      " $ koi_prad_err2    : num  -0.15 -0.19 -1.31 -2.83 -0.35 -0.42 -0.3 -0.17 -9.67 -0.49 ...\n",
      " $ koi_teq          : num  793 443 638 1395 1406 ...\n",
      " $ koi_teq_err1     : logi  NA NA NA NA NA NA ...\n",
      " $ koi_teq_err2     : logi  NA NA NA NA NA NA ...\n",
      " $ koi_insol        : num  93.59 9.11 39.3 891.96 926.16 ...\n",
      " $ koi_insol_err1   : num  29.45 2.87 31.04 668.95 874.33 ...\n",
      " $ koi_insol_err2   : num  -16.65 -1.62 -10.49 -230.35 -314.24 ...\n",
      " $ koi_model_snr    : num  35.8 25.8 76.3 505.6 40.9 ...\n",
      " $ koi_tce_plnt_num : int  1 2 1 1 1 1 2 3 1 1 ...\n",
      " $ koi_tce_delivname: chr  \"q1_q17_dr25_tce\" \"q1_q17_dr25_tce\" \"q1_q17_dr25_tce\" \"q1_q17_dr25_tce\" ...\n",
      " $ koi_steff        : num  5455 5455 5853 5805 6031 ...\n",
      " $ koi_steff_err1   : num  81 81 158 157 169 189 189 189 111 75 ...\n",
      " $ koi_steff_err2   : num  -81 -81 -176 -174 -211 -232 -232 -232 -124 -83 ...\n",
      " $ koi_slogg        : num  4.47 4.47 4.54 4.56 4.44 ...\n",
      " $ koi_slogg_err1   : num  0.064 0.064 0.044 0.053 0.07 0.054 0.054 0.054 0.182 0.083 ...\n",
      " $ koi_slogg_err2   : num  -0.096 -0.096 -0.176 -0.168 -0.21 -0.229 -0.229 -0.229 -0.098 -0.028 ...\n",
      " $ koi_srad         : num  0.927 0.927 0.868 0.791 1.046 ...\n",
      " $ koi_srad_err1    : num  0.105 0.105 0.233 0.201 0.334 0.315 0.315 0.315 0.322 0.033 ...\n",
      " $ koi_srad_err2    : num  -0.061 -0.061 -0.078 -0.067 -0.133 -0.105 -0.105 -0.105 -0.483 -0.072 ...\n",
      " $ ra               : num  292 292 297 286 289 ...\n",
      " $ dec              : num  48.1 48.1 48.1 48.3 48.2 ...\n",
      " $ koi_kepmag       : num  15.3 15.3 15.4 15.6 15.5 ...\n"
     ]
    }
   ],
   "source": [
    "# Data Preprocessing\n",
    "library(tidyverse)\n",
    "library(caret)\n",
    "\n",
    "# Import the dataset\n",
    "dataset <- read.csv('data/raw_data.csv')\n",
    "\n",
    "# Understand the dimension, first few rows of the dataset, and its structure\n",
    "dim(dataset)\n",
    "head(dataset)\n",
    "str(dataset)"
   ]
  },
  {
   "cell_type": "code",
   "execution_count": 15,
   "id": "fea745a9",
   "metadata": {
    "vscode": {
     "languageId": "r"
    }
   },
   "outputs": [
    {
     "data": {
      "text/plain": [
       "     rowid          kepid           kepoi_name        kepler_name       \n",
       " Min.   :   1   Min.   :  757450   Length:9564        Length:9564       \n",
       " 1st Qu.:2392   1st Qu.: 5556034   Class :character   Class :character  \n",
       " Median :4782   Median : 7906892   Mode  :character   Mode  :character  \n",
       " Mean   :4782   Mean   : 7690628                                        \n",
       " 3rd Qu.:7173   3rd Qu.: 9873067                                        \n",
       " Max.   :9564   Max.   :12935144                                        \n",
       "                                                                        \n",
       " koi_disposition    koi_pdisposition     koi_score      koi_fpflag_nt   \n",
       " Length:9564        Length:9564        Min.   :0.0000   Min.   :0.0000  \n",
       " Class :character   Class :character   1st Qu.:0.0000   1st Qu.:0.0000  \n",
       " Mode  :character   Mode  :character   Median :0.3340   Median :0.0000  \n",
       "                                       Mean   :0.4808   Mean   :0.1882  \n",
       "                                       3rd Qu.:0.9980   3rd Qu.:0.0000  \n",
       "                                       Max.   :1.0000   Max.   :1.0000  \n",
       "                                       NA's   :1510                     \n",
       " koi_fpflag_ss    koi_fpflag_co    koi_fpflag_ec    koi_period       \n",
       " Min.   :0.0000   Min.   :0.0000   Min.   :0.00   Min.   :2.420e-01  \n",
       " 1st Qu.:0.0000   1st Qu.:0.0000   1st Qu.:0.00   1st Qu.:2.734e+00  \n",
       " Median :0.0000   Median :0.0000   Median :0.00   Median :9.753e+00  \n",
       " Mean   :0.2316   Mean   :0.1949   Mean   :0.12   Mean   :7.567e+01  \n",
       " 3rd Qu.:0.0000   3rd Qu.:0.0000   3rd Qu.:0.00   3rd Qu.:4.072e+01  \n",
       " Max.   :1.0000   Max.   :1.0000   Max.   :1.00   Max.   :1.300e+05  \n",
       "                                                                     \n",
       " koi_period_err1   koi_period_err2     koi_time0bk     koi_time0bk_err1 \n",
       " Min.   :0.00000   Min.   :-0.17250   Min.   : 120.5   Min.   :0.00001  \n",
       " 1st Qu.:0.00001   1st Qu.:-0.00028   1st Qu.: 132.8   1st Qu.:0.00124  \n",
       " Median :0.00004   Median :-0.00004   Median : 137.2   Median :0.00413  \n",
       " Mean   :0.00215   Mean   :-0.00215   Mean   : 166.2   Mean   :0.00993  \n",
       " 3rd Qu.:0.00028   3rd Qu.:-0.00001   3rd Qu.: 170.7   3rd Qu.:0.01050  \n",
       " Max.   :0.17250   Max.   : 0.00000   Max.   :1472.5   Max.   :0.56900  \n",
       " NA's   :454       NA's   :454                         NA's   :454      \n",
       " koi_time0bk_err2     koi_impact       koi_impact_err1  koi_impact_err2   \n",
       " Min.   :-0.56900   Min.   :  0.0000   Min.   : 0.000   Min.   :-59.3200  \n",
       " 1st Qu.:-0.01050   1st Qu.:  0.1970   1st Qu.: 0.040   1st Qu.: -0.4450  \n",
       " Median :-0.00413   Median :  0.5370   Median : 0.193   Median : -0.2070  \n",
       " Mean   :-0.00993   Mean   :  0.7351   Mean   : 1.960   Mean   : -0.3326  \n",
       " 3rd Qu.:-0.00124   3rd Qu.:  0.8890   3rd Qu.: 0.378   3rd Qu.: -0.0460  \n",
       " Max.   :-0.00001   Max.   :100.8060   Max.   :85.540   Max.   :  0.0000  \n",
       " NA's   :454        NA's   :363        NA's   :454      NA's   :454       \n",
       "  koi_duration     koi_duration_err1 koi_duration_err2    koi_depth        \n",
       " Min.   :  0.052   Min.   : 0.0000   Min.   :-20.2000   Min.   :      0.0  \n",
       " 1st Qu.:  2.438   1st Qu.: 0.0508   1st Qu.: -0.3500   1st Qu.:    159.9  \n",
       " Median :  3.793   Median : 0.1420   Median : -0.1420   Median :    421.1  \n",
       " Mean   :  5.622   Mean   : 0.3399   Mean   : -0.3399   Mean   :  23791.3  \n",
       " 3rd Qu.:  6.277   3rd Qu.: 0.3500   3rd Qu.: -0.0508   3rd Qu.:   1473.4  \n",
       " Max.   :138.540   Max.   :20.2000   Max.   :  0.0000   Max.   :1541400.0  \n",
       "                   NA's   :454       NA's   :454        NA's   :363        \n",
       " koi_depth_err1      koi_depth_err2          koi_prad        \n",
       " Min.   :     0.00   Min.   :-388600.00   Min.   :     0.08  \n",
       " 1st Qu.:     9.60   1st Qu.:    -49.50   1st Qu.:     1.40  \n",
       " Median :    20.75   Median :    -20.75   Median :     2.39  \n",
       " Mean   :   123.20   Mean   :   -123.20   Mean   :   102.89  \n",
       " 3rd Qu.:    49.50   3rd Qu.:     -9.60   3rd Qu.:    14.93  \n",
       " Max.   :388600.00   Max.   :      0.00   Max.   :200346.00  \n",
       " NA's   :454         NA's   :454          NA's   :363        \n",
       " koi_prad_err1      koi_prad_err2          koi_teq      koi_teq_err1  \n",
       " Min.   :    0.00   Min.   :-77180.00   Min.   :   25   Mode:logical  \n",
       " 1st Qu.:    0.23   1st Qu.:    -1.94   1st Qu.:  539   NA's:9564     \n",
       " Median :    0.52   Median :    -0.30   Median :  878                 \n",
       " Mean   :   17.66   Mean   :   -33.02   Mean   : 1085                 \n",
       " 3rd Qu.:    2.32   3rd Qu.:    -0.14   3rd Qu.: 1379                 \n",
       " Max.   :21640.00   Max.   :     0.00   Max.   :14667                 \n",
       " NA's   :363        NA's   :363         NA's   :363                   \n",
       " koi_teq_err2     koi_insol         koi_insol_err1      koi_insol_err2      \n",
       " Mode:logical   Min.   :0.000e+00   Min.   :      0.0   Min.   :-5600031.3  \n",
       " NA's:9564      1st Qu.:2.010e+01   1st Qu.:      9.2   1st Qu.:    -287.3  \n",
       "                Median :1.416e+02   Median :     72.8   Median :     -40.3  \n",
       "                Mean   :7.746e+03   Mean   :   3750.7   Mean   :   -4043.5  \n",
       "                3rd Qu.:8.703e+02   3rd Qu.:    519.4   3rd Qu.:      -5.2  \n",
       "                Max.   :1.095e+07   Max.   :3617132.6   Max.   :       0.0  \n",
       "                NA's   :321         NA's   :321         NA's   :321         \n",
       " koi_model_snr    koi_tce_plnt_num koi_tce_delivname    koi_steff    \n",
       " Min.   :   0.0   Min.   :1.000    Length:9564        Min.   : 2661  \n",
       " 1st Qu.:  12.0   1st Qu.:1.000    Class :character   1st Qu.: 5310  \n",
       " Median :  23.0   Median :1.000    Mode  :character   Median : 5767  \n",
       " Mean   : 259.9   Mean   :1.244                       Mean   : 5707  \n",
       " 3rd Qu.:  78.0   3rd Qu.:1.000                       3rd Qu.: 6112  \n",
       " Max.   :9054.7   Max.   :8.000                       Max.   :15896  \n",
       " NA's   :363      NA's   :346                         NA's   :363    \n",
       " koi_steff_err1  koi_steff_err2      koi_slogg     koi_slogg_err1  \n",
       " Min.   :  0.0   Min.   :-1762.0   Min.   :0.047   Min.   :0.0000  \n",
       " 1st Qu.:106.0   1st Qu.: -198.0   1st Qu.:4.218   1st Qu.:0.0420  \n",
       " Median :157.0   Median : -160.0   Median :4.438   Median :0.0700  \n",
       " Mean   :144.6   Mean   : -162.3   Mean   :4.310   Mean   :0.1207  \n",
       " 3rd Qu.:174.0   3rd Qu.: -114.0   3rd Qu.:4.543   3rd Qu.:0.1490  \n",
       " Max.   :676.0   Max.   :    0.0   Max.   :5.364   Max.   :1.4720  \n",
       " NA's   :468     NA's   :483       NA's   :363     NA's   :468     \n",
       " koi_slogg_err2       koi_srad       koi_srad_err1     koi_srad_err2      \n",
       " Min.   :-1.2070   Min.   :  0.109   Min.   : 0.0000   Min.   :-116.1370  \n",
       " 1st Qu.:-0.1960   1st Qu.:  0.829   1st Qu.: 0.1290   1st Qu.:  -0.2500  \n",
       " Median :-0.1280   Median :  1.000   Median : 0.2510   Median :  -0.1110  \n",
       " Mean   :-0.1432   Mean   :  1.729   Mean   : 0.3623   Mean   :  -0.3948  \n",
       " 3rd Qu.:-0.0880   3rd Qu.:  1.345   3rd Qu.: 0.3640   3rd Qu.:  -0.0690  \n",
       " Max.   : 0.0000   Max.   :229.908   Max.   :33.0910   Max.   :   0.0000  \n",
       " NA's   :468       NA's   :363       NA's   :468       NA's   :468        \n",
       "       ra             dec          koi_kepmag    \n",
       " Min.   :279.9   Min.   :36.58   Min.   : 6.966  \n",
       " 1st Qu.:288.7   1st Qu.:40.78   1st Qu.:13.440  \n",
       " Median :292.3   Median :43.68   Median :14.520  \n",
       " Mean   :292.1   Mean   :43.81   Mean   :14.265  \n",
       " 3rd Qu.:295.9   3rd Qu.:46.71   3rd Qu.:15.322  \n",
       " Max.   :301.7   Max.   :52.34   Max.   :20.003  \n",
       "                                 NA's   :1       "
      ]
     },
     "metadata": {},
     "output_type": "display_data"
    }
   ],
   "source": [
    "# Get a summary of the dataset statistics\n",
    "summary(dataset)"
   ]
  },
  {
   "cell_type": "code",
   "execution_count": 16,
   "id": "8a0eacb2",
   "metadata": {
    "vscode": {
     "languageId": "r"
    }
   },
   "outputs": [],
   "source": [
    "# Remove irrelevant columns (ie. ID, names, disposition, and score columns)\n",
    "dataset <- dataset [, !(names(dataset) %in% c('rowid', 'kepid', 'kepoi_name', 'kepler_name', 'koi_pdisposition', 'koi_score'))]"
   ]
  },
  {
   "cell_type": "code",
   "execution_count": 17,
   "id": "c4d0b2db",
   "metadata": {
    "vscode": {
     "languageId": "r"
    }
   },
   "outputs": [
    {
     "data": {
      "text/html": [
       "<style>\n",
       ".dl-inline {width: auto; margin:0; padding: 0}\n",
       ".dl-inline>dt, .dl-inline>dd {float: none; width: auto; display: inline-block}\n",
       ".dl-inline>dt::after {content: \":\\0020\"; padding-right: .5ex}\n",
       ".dl-inline>dt:not(:first-of-type) {padding-left: .5ex}\n",
       "</style><dl class=dl-inline><dt>koi_disposition</dt><dd>0</dd><dt>koi_fpflag_nt</dt><dd>0</dd><dt>koi_fpflag_ss</dt><dd>0</dd><dt>koi_fpflag_co</dt><dd>0</dd><dt>koi_fpflag_ec</dt><dd>0</dd><dt>koi_period</dt><dd>0</dd><dt>koi_period_err1</dt><dd>454</dd><dt>koi_period_err2</dt><dd>454</dd><dt>koi_time0bk</dt><dd>0</dd><dt>koi_time0bk_err1</dt><dd>454</dd><dt>koi_time0bk_err2</dt><dd>454</dd><dt>koi_impact</dt><dd>363</dd><dt>koi_impact_err1</dt><dd>454</dd><dt>koi_impact_err2</dt><dd>454</dd><dt>koi_duration</dt><dd>0</dd><dt>koi_duration_err1</dt><dd>454</dd><dt>koi_duration_err2</dt><dd>454</dd><dt>koi_depth</dt><dd>363</dd><dt>koi_depth_err1</dt><dd>454</dd><dt>koi_depth_err2</dt><dd>454</dd><dt>koi_prad</dt><dd>363</dd><dt>koi_prad_err1</dt><dd>363</dd><dt>koi_prad_err2</dt><dd>363</dd><dt>koi_teq</dt><dd>363</dd><dt>koi_teq_err1</dt><dd>9564</dd><dt>koi_teq_err2</dt><dd>9564</dd><dt>koi_insol</dt><dd>321</dd><dt>koi_insol_err1</dt><dd>321</dd><dt>koi_insol_err2</dt><dd>321</dd><dt>koi_model_snr</dt><dd>363</dd><dt>koi_tce_plnt_num</dt><dd>346</dd><dt>koi_tce_delivname</dt><dd>0</dd><dt>koi_steff</dt><dd>363</dd><dt>koi_steff_err1</dt><dd>468</dd><dt>koi_steff_err2</dt><dd>483</dd><dt>koi_slogg</dt><dd>363</dd><dt>koi_slogg_err1</dt><dd>468</dd><dt>koi_slogg_err2</dt><dd>468</dd><dt>koi_srad</dt><dd>363</dd><dt>koi_srad_err1</dt><dd>468</dd><dt>koi_srad_err2</dt><dd>468</dd><dt>ra</dt><dd>0</dd><dt>dec</dt><dd>0</dd><dt>koi_kepmag</dt><dd>1</dd></dl>\n"
      ],
      "text/latex": [
       "\\begin{description*}\n",
       "\\item[koi\\textbackslash{}\\_disposition] 0\n",
       "\\item[koi\\textbackslash{}\\_fpflag\\textbackslash{}\\_nt] 0\n",
       "\\item[koi\\textbackslash{}\\_fpflag\\textbackslash{}\\_ss] 0\n",
       "\\item[koi\\textbackslash{}\\_fpflag\\textbackslash{}\\_co] 0\n",
       "\\item[koi\\textbackslash{}\\_fpflag\\textbackslash{}\\_ec] 0\n",
       "\\item[koi\\textbackslash{}\\_period] 0\n",
       "\\item[koi\\textbackslash{}\\_period\\textbackslash{}\\_err1] 454\n",
       "\\item[koi\\textbackslash{}\\_period\\textbackslash{}\\_err2] 454\n",
       "\\item[koi\\textbackslash{}\\_time0bk] 0\n",
       "\\item[koi\\textbackslash{}\\_time0bk\\textbackslash{}\\_err1] 454\n",
       "\\item[koi\\textbackslash{}\\_time0bk\\textbackslash{}\\_err2] 454\n",
       "\\item[koi\\textbackslash{}\\_impact] 363\n",
       "\\item[koi\\textbackslash{}\\_impact\\textbackslash{}\\_err1] 454\n",
       "\\item[koi\\textbackslash{}\\_impact\\textbackslash{}\\_err2] 454\n",
       "\\item[koi\\textbackslash{}\\_duration] 0\n",
       "\\item[koi\\textbackslash{}\\_duration\\textbackslash{}\\_err1] 454\n",
       "\\item[koi\\textbackslash{}\\_duration\\textbackslash{}\\_err2] 454\n",
       "\\item[koi\\textbackslash{}\\_depth] 363\n",
       "\\item[koi\\textbackslash{}\\_depth\\textbackslash{}\\_err1] 454\n",
       "\\item[koi\\textbackslash{}\\_depth\\textbackslash{}\\_err2] 454\n",
       "\\item[koi\\textbackslash{}\\_prad] 363\n",
       "\\item[koi\\textbackslash{}\\_prad\\textbackslash{}\\_err1] 363\n",
       "\\item[koi\\textbackslash{}\\_prad\\textbackslash{}\\_err2] 363\n",
       "\\item[koi\\textbackslash{}\\_teq] 363\n",
       "\\item[koi\\textbackslash{}\\_teq\\textbackslash{}\\_err1] 9564\n",
       "\\item[koi\\textbackslash{}\\_teq\\textbackslash{}\\_err2] 9564\n",
       "\\item[koi\\textbackslash{}\\_insol] 321\n",
       "\\item[koi\\textbackslash{}\\_insol\\textbackslash{}\\_err1] 321\n",
       "\\item[koi\\textbackslash{}\\_insol\\textbackslash{}\\_err2] 321\n",
       "\\item[koi\\textbackslash{}\\_model\\textbackslash{}\\_snr] 363\n",
       "\\item[koi\\textbackslash{}\\_tce\\textbackslash{}\\_plnt\\textbackslash{}\\_num] 346\n",
       "\\item[koi\\textbackslash{}\\_tce\\textbackslash{}\\_delivname] 0\n",
       "\\item[koi\\textbackslash{}\\_steff] 363\n",
       "\\item[koi\\textbackslash{}\\_steff\\textbackslash{}\\_err1] 468\n",
       "\\item[koi\\textbackslash{}\\_steff\\textbackslash{}\\_err2] 483\n",
       "\\item[koi\\textbackslash{}\\_slogg] 363\n",
       "\\item[koi\\textbackslash{}\\_slogg\\textbackslash{}\\_err1] 468\n",
       "\\item[koi\\textbackslash{}\\_slogg\\textbackslash{}\\_err2] 468\n",
       "\\item[koi\\textbackslash{}\\_srad] 363\n",
       "\\item[koi\\textbackslash{}\\_srad\\textbackslash{}\\_err1] 468\n",
       "\\item[koi\\textbackslash{}\\_srad\\textbackslash{}\\_err2] 468\n",
       "\\item[ra] 0\n",
       "\\item[dec] 0\n",
       "\\item[koi\\textbackslash{}\\_kepmag] 1\n",
       "\\end{description*}\n"
      ],
      "text/markdown": [
       "koi_disposition\n",
       ":   0koi_fpflag_nt\n",
       ":   0koi_fpflag_ss\n",
       ":   0koi_fpflag_co\n",
       ":   0koi_fpflag_ec\n",
       ":   0koi_period\n",
       ":   0koi_period_err1\n",
       ":   454koi_period_err2\n",
       ":   454koi_time0bk\n",
       ":   0koi_time0bk_err1\n",
       ":   454koi_time0bk_err2\n",
       ":   454koi_impact\n",
       ":   363koi_impact_err1\n",
       ":   454koi_impact_err2\n",
       ":   454koi_duration\n",
       ":   0koi_duration_err1\n",
       ":   454koi_duration_err2\n",
       ":   454koi_depth\n",
       ":   363koi_depth_err1\n",
       ":   454koi_depth_err2\n",
       ":   454koi_prad\n",
       ":   363koi_prad_err1\n",
       ":   363koi_prad_err2\n",
       ":   363koi_teq\n",
       ":   363koi_teq_err1\n",
       ":   9564koi_teq_err2\n",
       ":   9564koi_insol\n",
       ":   321koi_insol_err1\n",
       ":   321koi_insol_err2\n",
       ":   321koi_model_snr\n",
       ":   363koi_tce_plnt_num\n",
       ":   346koi_tce_delivname\n",
       ":   0koi_steff\n",
       ":   363koi_steff_err1\n",
       ":   468koi_steff_err2\n",
       ":   483koi_slogg\n",
       ":   363koi_slogg_err1\n",
       ":   468koi_slogg_err2\n",
       ":   468koi_srad\n",
       ":   363koi_srad_err1\n",
       ":   468koi_srad_err2\n",
       ":   468ra\n",
       ":   0dec\n",
       ":   0koi_kepmag\n",
       ":   1\n",
       "\n"
      ],
      "text/plain": [
       "  koi_disposition     koi_fpflag_nt     koi_fpflag_ss     koi_fpflag_co \n",
       "                0                 0                 0                 0 \n",
       "    koi_fpflag_ec        koi_period   koi_period_err1   koi_period_err2 \n",
       "                0                 0               454               454 \n",
       "      koi_time0bk  koi_time0bk_err1  koi_time0bk_err2        koi_impact \n",
       "                0               454               454               363 \n",
       "  koi_impact_err1   koi_impact_err2      koi_duration koi_duration_err1 \n",
       "              454               454                 0               454 \n",
       "koi_duration_err2         koi_depth    koi_depth_err1    koi_depth_err2 \n",
       "              454               363               454               454 \n",
       "         koi_prad     koi_prad_err1     koi_prad_err2           koi_teq \n",
       "              363               363               363               363 \n",
       "     koi_teq_err1      koi_teq_err2         koi_insol    koi_insol_err1 \n",
       "             9564              9564               321               321 \n",
       "   koi_insol_err2     koi_model_snr  koi_tce_plnt_num koi_tce_delivname \n",
       "              321               363               346                 0 \n",
       "        koi_steff    koi_steff_err1    koi_steff_err2         koi_slogg \n",
       "              363               468               483               363 \n",
       "   koi_slogg_err1    koi_slogg_err2          koi_srad     koi_srad_err1 \n",
       "              468               468               363               468 \n",
       "    koi_srad_err2                ra               dec        koi_kepmag \n",
       "              468                 0                 0                 1 "
      ]
     },
     "metadata": {},
     "output_type": "display_data"
    }
   ],
   "source": [
    "# Check for missing values\n",
    "colSums(is.na(dataset))"
   ]
  },
  {
   "cell_type": "code",
   "execution_count": 18,
   "id": "d137fe33",
   "metadata": {
    "vscode": {
     "languageId": "r"
    }
   },
   "outputs": [],
   "source": [
    "# Handle missing values by calculating the median for numerical columns\n",
    "dataset <- dataset %>% mutate(across(where(is.numeric), ~ifelse(is.na(.), median(., na.rm = TRUE), .)))"
   ]
  },
  {
   "cell_type": "code",
   "execution_count": 19,
   "id": "736efcae",
   "metadata": {
    "vscode": {
     "languageId": "r"
    }
   },
   "outputs": [],
   "source": [
    "# Only keep the confirmed and candidate planets\n",
    "dataset <- dataset %>% filter(koi_disposition %in% c('CONFIRMED', 'CANDIDATE'))"
   ]
  },
  {
   "cell_type": "code",
   "execution_count": 20,
   "id": "ba827411",
   "metadata": {
    "vscode": {
     "languageId": "r"
    }
   },
   "outputs": [],
   "source": [
    "# Transform target column to binary (1 = CANDIDATE, 0 = CONFIRMED)\n",
    "dataset$koi_disposition <- ifelse(dataset$koi_disposition == \"CANDIDATE\", 1, 0)"
   ]
  },
  {
   "cell_type": "code",
   "execution_count": 21,
   "id": "129bf679",
   "metadata": {
    "vscode": {
     "languageId": "r"
    }
   },
   "outputs": [],
   "source": [
    "# Handle categorical variables by creating dummy variables\n",
    "if(\"koi_tce_delivname\" %in% names(dataset)) {\n",
    "  # For categorical variable, use mode (most frequent value) instead of mean\n",
    "  # Calculate mode\n",
    "  mode_value <- names(sort(table(dataset$koi_tce_delivname), decreasing = TRUE))[1]\n",
    "  \n",
    "  # Replace NAs with mode\n",
    "  dataset$koi_tce_delivname[is.na(dataset$koi_tce_delivname)] <- mode_value\n",
    "  \n",
    "  # Create dummy variables for koi_tce_delivname\n",
    "  dummy_model <- dummyVars(~ koi_tce_delivname, data = dataset, fullRank = TRUE)\n",
    "  dummy_vars <- predict(dummy_model, dataset)\n",
    "  \n",
    "  # Remove original categorical column and add dummy variables\n",
    "  dataset <- dataset[, names(dataset) != \"koi_tce_delivname\"]\n",
    "  dataset <- cbind(dataset, dummy_vars)\n",
    "}"
   ]
  },
  {
   "cell_type": "code",
   "execution_count": 22,
   "id": "21c75a58",
   "metadata": {
    "vscode": {
     "languageId": "r"
    }
   },
   "outputs": [],
   "source": [
    "# Remove columns that are completely NA\n",
    "dataset <- dataset %>% select(where(~!all(is.na(.))))"
   ]
  },
  {
   "cell_type": "code",
   "execution_count": 23,
   "id": "3eaf524d",
   "metadata": {
    "vscode": {
     "languageId": "r"
    }
   },
   "outputs": [
    {
     "name": "stdout",
     "output_type": "stream",
     "text": [
      "Missing values remaining in X: 0 \n"
     ]
    }
   ],
   "source": [
    "# Impute remaining missing values in numeric columns (median imputation)\n",
    "# Separate target variable\n",
    "y <- dataset$koi_disposition\n",
    "X <- dataset[, names(dataset) != \"koi_disposition\"]\n",
    "\n",
    "# Impute missing values in X\n",
    "for(col in names(X)) {\n",
    "  if(is.numeric(X[[col]]) && any(is.na(X[[col]]))) {\n",
    "    X[[col]][is.na(X[[col]])] <- median(X[[col]], na.rm = TRUE)\n",
    "  }\n",
    "}\n",
    "\n",
    "# Verify no missing values remain\n",
    "cat(\"Missing values remaining in X:\", sum(is.na(X)), \"\\n\")"
   ]
  },
  {
   "cell_type": "code",
   "execution_count": 24,
   "id": "bf5590c5",
   "metadata": {
    "vscode": {
     "languageId": "r"
    }
   },
   "outputs": [
    {
     "name": "stdout",
     "output_type": "stream",
     "text": [
      "Training set size: 3179 \n",
      "Test set size: 1362 \n",
      "Training target distribution:\n",
      "y_train\n",
      "   0    1 \n",
      "1610 1569 \n",
      "Test target distribution:\n",
      "y_test\n",
      "  0   1 \n",
      "683 679 \n"
     ]
    }
   ],
   "source": [
    "# Split into training (70%) and testing (30%) sets\n",
    "train_indices <- createDataPartition(y, p = 0.70, list = FALSE)\n",
    "\n",
    "X_train <- X[train_indices, ]\n",
    "X_test <- X[-train_indices, ]\n",
    "y_train <- y[train_indices]\n",
    "y_test <- y[-train_indices]\n",
    "\n",
    "# Check dimensions\n",
    "cat(\"Training set size:\", nrow(X_train), \"\\n\")\n",
    "cat(\"Test set size:\", nrow(X_test), \"\\n\")\n",
    "cat(\"Training target distribution:\\n\")\n",
    "print(table(y_train))\n",
    "cat(\"Test target distribution:\\n\")\n",
    "print(table(y_test))"
   ]
  },
  {
   "cell_type": "code",
   "execution_count": 25,
   "id": "570d4cb3",
   "metadata": {
    "vscode": {
     "languageId": "r"
    }
   },
   "outputs": [
    {
     "name": "stdout",
     "output_type": "stream",
     "text": [
      "\n",
      "Sample column statistics after scaling (training data):\n",
      "Mean of first numeric column: 5.43907e-18 \n",
      "SD of first numeric column: 1 \n",
      "\n",
      "=== Preprocessing Complete ===\n",
      "X_train_scaled:  3179 rows x 43 columns\n",
      "X_test_scaled:  1362 rows x 43 columns\n",
      "y_train:  3179 values\n",
      "y_test:  1362 values\n"
     ]
    }
   ],
   "source": [
    "# Scale the data using StandardScaler (center and scale)\n",
    "# Learn scaling parameters from training data only\n",
    "preProc_scale <- preProcess(X_train, method = c(\"center\", \"scale\"))\n",
    "\n",
    "# Apply scaling to both training and test sets\n",
    "X_train_scaled <- predict(preProc_scale, X_train)\n",
    "X_test_scaled <- predict(preProc_scale, X_test)\n",
    "\n",
    "# Verify scaling worked (mean should be ~0, sd should be ~1 for training data)\n",
    "cat(\"\\nSample column statistics after scaling (training data):\\n\")\n",
    "cat(\"Mean of first numeric column:\", mean(X_train_scaled[[1]]), \"\\n\")\n",
    "cat(\"SD of first numeric column:\", sd(X_train_scaled[[1]]), \"\\n\")\n",
    "\n",
    "# Final datasets ready for modeling\n",
    "cat(\"\\n=== Preprocessing Complete ===\\n\")\n",
    "cat(\"X_train_scaled: \", nrow(X_train_scaled), \"rows x\", ncol(X_train_scaled), \"columns\\n\")\n",
    "cat(\"X_test_scaled: \", nrow(X_test_scaled), \"rows x\", ncol(X_test_scaled), \"columns\\n\")\n",
    "cat(\"y_train: \", length(y_train), \"values\\n\")\n",
    "cat(\"y_test: \", length(y_test), \"values\\n\")"
   ]
  },
  {
   "cell_type": "code",
   "execution_count": 26,
   "id": "a44687b4",
   "metadata": {
    "vscode": {
     "languageId": "r"
    }
   },
   "outputs": [],
   "source": [
    "# Save processed data to CSV files\n",
    "write.csv(cbind(X_train_scaled, koi_disposition = y_train), 'data/processed_train_data.csv', row.names = FALSE)\n",
    "write.csv(cbind(X_test_scaled, koi_disposition = y_test), 'data/processed_test_data.csv', row.names = FALSE)"
   ]
  },
  {
   "cell_type": "code",
   "execution_count": 27,
   "id": "b574bb6f",
   "metadata": {
    "vscode": {
     "languageId": "r"
    }
   },
   "outputs": [],
   "source": [
    "# Save training data\n",
    "write.csv(X_train_scaled, \"data/X_train_scaled.csv\", row.names = FALSE)\n",
    "write.csv(X_test_scaled, \"data/X_test_scaled.csv\", row.names = FALSE)\n",
    "\n",
    "# Save target variables\n",
    "write.csv(data.frame(koi_disposition = y_train), \"data/y_train.csv\", row.names = FALSE)\n",
    "write.csv(data.frame(koi_disposition = y_test), \"data/y_test.csv\", row.names = FALSE)"
   ]
  }
 ],
 "metadata": {
  "kernelspec": {
   "display_name": "R",
   "language": "R",
   "name": "ir"
  },
  "language_info": {
   "codemirror_mode": "r",
   "file_extension": ".r",
   "mimetype": "text/x-r-source",
   "name": "R",
   "pygments_lexer": "r",
   "version": "4.5.1"
  }
 },
 "nbformat": 4,
 "nbformat_minor": 5
}
