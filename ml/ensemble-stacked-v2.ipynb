{
 "cells": [
  {
   "cell_type": "code",
   "execution_count": 1,
   "id": "feba5807",
   "metadata": {},
   "outputs": [],
   "source": [
    "# Import libraries\n",
    "import numpy as np\n",
    "import pandas as pd\n",
    "from sklearn.ensemble import RandomForestClassifier, GradientBoostingClassifier, StackingClassifier\n",
    "from sklearn.linear_model import LogisticRegression\n",
    "from sklearn.metrics import confusion_matrix, classification_report, accuracy_score\n",
    "import matplotlib.pyplot as plt\n",
    "import seaborn as sns\n",
    "import time\n",
    "import pickle"
   ]
  },
  {
   "cell_type": "code",
   "execution_count": 2,
   "id": "8be3f982",
   "metadata": {},
   "outputs": [],
   "source": [
    "# Load dataset\n",
    "X_train_scaled = pd.read_csv('data/X_train_scaled.csv')\n",
    "X_test_scaled = pd.read_csv('data/X_test_scaled.csv')\n",
    "y_train = pd.read_csv('data/y_train.csv').values.ravel()  # Convert to 1D array\n",
    "y_test = pd.read_csv('data/y_test.csv').values.ravel() "
   ]
  },
  {
   "cell_type": "code",
   "execution_count": 3,
   "id": "ee0c85cf",
   "metadata": {},
   "outputs": [],
   "source": [
    "# Set random seed\n",
    "np.random.seed(42)"
   ]
  },
  {
   "cell_type": "code",
   "execution_count": 4,
   "id": "934b12ed",
   "metadata": {},
   "outputs": [],
   "source": [
    "# Define base estimators (level 0)\n",
    "base_estimators = [\n",
    "    ('random_forest', RandomForestClassifier(\n",
    "        n_estimators=500,\n",
    "        max_depth=None,\n",
    "        min_samples_split=5,\n",
    "        min_samples_leaf=2,\n",
    "        random_state=42,\n",
    "        n_jobs=-1\n",
    "    )),\n",
    "    ('gradient_boosting', GradientBoostingClassifier(\n",
    "        n_estimators=100,\n",
    "        learning_rate=0.05,\n",
    "        max_depth=5,\n",
    "        min_samples_split=5,\n",
    "        random_state=42\n",
    "    ))\n",
    "]"
   ]
  },
  {
   "cell_type": "code",
   "execution_count": 5,
   "id": "16dc048d",
   "metadata": {},
   "outputs": [],
   "source": [
    "# Create meta-model\n",
    "meta_model = LogisticRegression(\n",
    "    random_state=42, \n",
    "    max_iter=1000,\n",
    "    solver='lbfgs'\n",
    ")\n",
    "\n",
    "# Create Stacking Classifier\n",
    "stacking_model = StackingClassifier(\n",
    "    estimators=base_estimators,\n",
    "    final_estimator=meta_model,\n",
    "    cv=5,\n",
    "    stack_method='predict_proba',  # Use probability predictions\n",
    "    n_jobs=-1\n",
    ")\n"
   ]
  },
  {
   "cell_type": "code",
   "execution_count": null,
   "id": "0e5938ab",
   "metadata": {},
   "outputs": [],
   "source": [
    "# Train the model\n",
    "print(\"Training Stacking Classifier with tuned hyperparameters...\")\n",
    "start_time = time.time()\n",
    "\n",
    "stacking_model.fit(X_train_scaled, y_train)\n",
    "\n",
    "end_time = time.time()\n",
    "training_time = end_time - start_time\n",
    "\n",
    "print(f\"Training completed in {training_time:.2f} seconds ({training_time/60:.2f} minutes)\")\n",
    "\n",
    "# Make predictions\n",
    "y_pred = stacking_model.predict(X_test_scaled)\n",
    "y_pred_proba = stacking_model.predict_proba(X_test_scaled)\n",
    "\n",
    "# Evaluate\n",
    "accuracy = accuracy_score(y_test, y_pred)\n",
    "cm = confusion_matrix(y_test, y_pred)\n",
    "\n",
    "print(\"\\n=== Stacking Model Results ===\")\n",
    "print(f\"Accuracy: {accuracy:.4f} ({accuracy*100:.2f}%)\")\n",
    "print(f\"Training Time: {training_time:.2f} seconds\")\n",
    "\n",
    "tn, fp, fn, tp = cm.ravel()\n",
    "\n",
    "print(f\"\\nConfusion Matrix Values:\")\n",
    "print(f\"True Negatives (Confirmed correctly predicted): {tn}\")\n",
    "print(f\"False Positives (Confirmed predicted as Candidate): {fp}\")\n",
    "print(f\"False Negatives (Candidate predicted as Confirmed): {fn}\")\n",
    "print(f\"True Positives (Candidates correctly predicted): {tp}\")\n",
    "\n",
    "print(\"\\nDetailed Classification Report:\")\n",
    "print(classification_report(y_test, y_pred, target_names=['CONFIRMED', 'CANDIDATE']))\n",
    "\n",
    "# Visualize\n",
    "fig, axes = plt.subplots(1, 2, figsize=(15, 6))\n",
    "\n",
    "# Confusion Matrix\n",
    "sns.heatmap(cm, annot=True, fmt='d', cmap='Blues', ax=axes[0],\n",
    "            xticklabels=['CONFIRMED', 'CANDIDATE'],\n",
    "            yticklabels=['CONFIRMED', 'CANDIDATE'])\n",
    "axes[0].set_title(f'Stacking Model Confusion Matrix\\nAccuracy: {accuracy*100:.2f}%')\n",
    "axes[0].set_ylabel('True Label')\n",
    "axes[0].set_xlabel('Predicted Label')\n",
    "\n",
    "# Normalized Confusion Matrix\n",
    "cm_normalized = cm.astype('float') / cm.sum(axis=1)[:, np.newaxis]\n",
    "sns.heatmap(cm_normalized, annot=True, fmt='.2%', cmap='Greens', ax=axes[1],\n",
    "            xticklabels=['CONFIRMED', 'CANDIDATE'],\n",
    "            yticklabels=['CONFIRMED', 'CANDIDATE'])\n",
    "axes[1].set_title('Normalized Confusion Matrix')\n",
    "axes[1].set_ylabel('True Label')\n",
    "axes[1].set_xlabel('Predicted Label')\n",
    "\n",
    "plt.tight_layout()\n",
    "plt.savefig('stacking_results_v2.png', dpi=300, bbox_inches='tight')\n",
    "plt.show()"
   ]
  }
 ],
 "metadata": {
  "kernelspec": {
   "display_name": "Python 3",
   "language": "python",
   "name": "python3"
  },
  "language_info": {
   "codemirror_mode": {
    "name": "ipython",
    "version": 3
   },
   "file_extension": ".py",
   "mimetype": "text/x-python",
   "name": "python",
   "nbconvert_exporter": "python",
   "pygments_lexer": "ipython3",
   "version": "3.13.3"
  }
 },
 "nbformat": 4,
 "nbformat_minor": 5
}
